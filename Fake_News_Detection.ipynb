{
  "nbformat": 4,
  "nbformat_minor": 0,
  "metadata": {
    "colab": {
      "name": "Fake News Detection.ipynb",
      "provenance": [],
      "collapsed_sections": [
        "XB3a5fT0UI-3",
        "p3M2OMrqPxJL"
      ],
      "include_colab_link": true
    },
    "kernelspec": {
      "name": "python3",
      "display_name": "Python 3"
    },
    "language_info": {
      "name": "python"
    }
  },
  "cells": [
    {
      "cell_type": "markdown",
      "metadata": {
        "id": "view-in-github",
        "colab_type": "text"
      },
      "source": [
        "<a href=\"https://colab.research.google.com/github/kedar5/FakeNewsDetection/blob/main/Fake_News_Detection.ipynb\" target=\"_parent\"><img src=\"https://colab.research.google.com/assets/colab-badge.svg\" alt=\"Open In Colab\"/></a>"
      ]
    },
    {
      "cell_type": "markdown",
      "source": [
        "Import Libraries"
      ],
      "metadata": {
        "id": "t7o8iLZBNAw-"
      }
    },
    {
      "cell_type": "code",
      "source": [
        "# uncomment to install\n",
        "#!pip install tensorflow-text"
      ],
      "metadata": {
        "id": "6DPgQYggP-d6",
        "colab": {
          "base_uri": "https://localhost:8080/",
          "height": 1000
        },
        "outputId": "053e118a-fe8f-4fcf-c64a-a5e17b710962"
      },
      "execution_count": null,
      "outputs": [
        {
          "output_type": "stream",
          "name": "stdout",
          "text": [
            "Collecting tensorflow-text\n",
            "  Downloading tensorflow_text-2.8.2-cp37-cp37m-manylinux_2_12_x86_64.manylinux2010_x86_64.whl (4.9 MB)\n",
            "\u001b[K     |████████████████████████████████| 4.9 MB 27.8 MB/s \n",
            "\u001b[?25hRequirement already satisfied: tensorflow-hub>=0.8.0 in /usr/local/lib/python3.7/dist-packages (from tensorflow-text) (0.12.0)\n",
            "Requirement already satisfied: tensorflow<2.9,>=2.8.0 in /usr/local/lib/python3.7/dist-packages (from tensorflow-text) (2.8.0)\n",
            "Requirement already satisfied: numpy>=1.20 in /usr/local/lib/python3.7/dist-packages (from tensorflow<2.9,>=2.8.0->tensorflow-text) (1.21.6)\n",
            "Requirement already satisfied: wrapt>=1.11.0 in /usr/local/lib/python3.7/dist-packages (from tensorflow<2.9,>=2.8.0->tensorflow-text) (1.14.0)\n",
            "Requirement already satisfied: tensorboard<2.9,>=2.8 in /usr/local/lib/python3.7/dist-packages (from tensorflow<2.9,>=2.8.0->tensorflow-text) (2.8.0)\n",
            "Requirement already satisfied: setuptools in /usr/local/lib/python3.7/dist-packages (from tensorflow<2.9,>=2.8.0->tensorflow-text) (57.4.0)\n",
            "Requirement already satisfied: google-pasta>=0.1.1 in /usr/local/lib/python3.7/dist-packages (from tensorflow<2.9,>=2.8.0->tensorflow-text) (0.2.0)\n",
            "Requirement already satisfied: grpcio<2.0,>=1.24.3 in /usr/local/lib/python3.7/dist-packages (from tensorflow<2.9,>=2.8.0->tensorflow-text) (1.44.0)\n",
            "Collecting tf-estimator-nightly==2.8.0.dev2021122109\n",
            "  Downloading tf_estimator_nightly-2.8.0.dev2021122109-py2.py3-none-any.whl (462 kB)\n",
            "\u001b[K     |████████████████████████████████| 462 kB 54.3 MB/s \n",
            "\u001b[?25hRequirement already satisfied: keras<2.9,>=2.8.0rc0 in /usr/local/lib/python3.7/dist-packages (from tensorflow<2.9,>=2.8.0->tensorflow-text) (2.8.0)\n",
            "Requirement already satisfied: gast>=0.2.1 in /usr/local/lib/python3.7/dist-packages (from tensorflow<2.9,>=2.8.0->tensorflow-text) (0.5.3)\n",
            "Requirement already satisfied: keras-preprocessing>=1.1.1 in /usr/local/lib/python3.7/dist-packages (from tensorflow<2.9,>=2.8.0->tensorflow-text) (1.1.2)\n",
            "Requirement already satisfied: h5py>=2.9.0 in /usr/local/lib/python3.7/dist-packages (from tensorflow<2.9,>=2.8.0->tensorflow-text) (3.1.0)\n",
            "Requirement already satisfied: astunparse>=1.6.0 in /usr/local/lib/python3.7/dist-packages (from tensorflow<2.9,>=2.8.0->tensorflow-text) (1.6.3)\n",
            "Requirement already satisfied: opt-einsum>=2.3.2 in /usr/local/lib/python3.7/dist-packages (from tensorflow<2.9,>=2.8.0->tensorflow-text) (3.3.0)\n",
            "Requirement already satisfied: typing-extensions>=3.6.6 in /usr/local/lib/python3.7/dist-packages (from tensorflow<2.9,>=2.8.0->tensorflow-text) (4.2.0)\n",
            "Requirement already satisfied: tensorflow-io-gcs-filesystem>=0.23.1 in /usr/local/lib/python3.7/dist-packages (from tensorflow<2.9,>=2.8.0->tensorflow-text) (0.24.0)\n",
            "Requirement already satisfied: flatbuffers>=1.12 in /usr/local/lib/python3.7/dist-packages (from tensorflow<2.9,>=2.8.0->tensorflow-text) (2.0)\n",
            "Requirement already satisfied: six>=1.12.0 in /usr/local/lib/python3.7/dist-packages (from tensorflow<2.9,>=2.8.0->tensorflow-text) (1.15.0)\n",
            "Requirement already satisfied: termcolor>=1.1.0 in /usr/local/lib/python3.7/dist-packages (from tensorflow<2.9,>=2.8.0->tensorflow-text) (1.1.0)\n",
            "Requirement already satisfied: protobuf>=3.9.2 in /usr/local/lib/python3.7/dist-packages (from tensorflow<2.9,>=2.8.0->tensorflow-text) (3.17.3)\n",
            "Requirement already satisfied: absl-py>=0.4.0 in /usr/local/lib/python3.7/dist-packages (from tensorflow<2.9,>=2.8.0->tensorflow-text) (1.0.0)\n",
            "Requirement already satisfied: libclang>=9.0.1 in /usr/local/lib/python3.7/dist-packages (from tensorflow<2.9,>=2.8.0->tensorflow-text) (13.0.0)\n",
            "Requirement already satisfied: wheel<1.0,>=0.23.0 in /usr/local/lib/python3.7/dist-packages (from astunparse>=1.6.0->tensorflow<2.9,>=2.8.0->tensorflow-text) (0.37.1)\n",
            "Requirement already satisfied: cached-property in /usr/local/lib/python3.7/dist-packages (from h5py>=2.9.0->tensorflow<2.9,>=2.8.0->tensorflow-text) (1.5.2)\n",
            "Requirement already satisfied: google-auth-oauthlib<0.5,>=0.4.1 in /usr/local/lib/python3.7/dist-packages (from tensorboard<2.9,>=2.8->tensorflow<2.9,>=2.8.0->tensorflow-text) (0.4.6)\n",
            "Requirement already satisfied: markdown>=2.6.8 in /usr/local/lib/python3.7/dist-packages (from tensorboard<2.9,>=2.8->tensorflow<2.9,>=2.8.0->tensorflow-text) (3.3.6)\n",
            "Requirement already satisfied: tensorboard-data-server<0.7.0,>=0.6.0 in /usr/local/lib/python3.7/dist-packages (from tensorboard<2.9,>=2.8->tensorflow<2.9,>=2.8.0->tensorflow-text) (0.6.1)\n",
            "Requirement already satisfied: google-auth<3,>=1.6.3 in /usr/local/lib/python3.7/dist-packages (from tensorboard<2.9,>=2.8->tensorflow<2.9,>=2.8.0->tensorflow-text) (1.35.0)\n",
            "Requirement already satisfied: tensorboard-plugin-wit>=1.6.0 in /usr/local/lib/python3.7/dist-packages (from tensorboard<2.9,>=2.8->tensorflow<2.9,>=2.8.0->tensorflow-text) (1.8.1)\n",
            "Requirement already satisfied: requests<3,>=2.21.0 in /usr/local/lib/python3.7/dist-packages (from tensorboard<2.9,>=2.8->tensorflow<2.9,>=2.8.0->tensorflow-text) (2.23.0)\n",
            "Requirement already satisfied: werkzeug>=0.11.15 in /usr/local/lib/python3.7/dist-packages (from tensorboard<2.9,>=2.8->tensorflow<2.9,>=2.8.0->tensorflow-text) (1.0.1)\n",
            "Requirement already satisfied: cachetools<5.0,>=2.0.0 in /usr/local/lib/python3.7/dist-packages (from google-auth<3,>=1.6.3->tensorboard<2.9,>=2.8->tensorflow<2.9,>=2.8.0->tensorflow-text) (4.2.4)\n",
            "Requirement already satisfied: rsa<5,>=3.1.4 in /usr/local/lib/python3.7/dist-packages (from google-auth<3,>=1.6.3->tensorboard<2.9,>=2.8->tensorflow<2.9,>=2.8.0->tensorflow-text) (4.8)\n",
            "Requirement already satisfied: pyasn1-modules>=0.2.1 in /usr/local/lib/python3.7/dist-packages (from google-auth<3,>=1.6.3->tensorboard<2.9,>=2.8->tensorflow<2.9,>=2.8.0->tensorflow-text) (0.2.8)\n",
            "Requirement already satisfied: requests-oauthlib>=0.7.0 in /usr/local/lib/python3.7/dist-packages (from google-auth-oauthlib<0.5,>=0.4.1->tensorboard<2.9,>=2.8->tensorflow<2.9,>=2.8.0->tensorflow-text) (1.3.1)\n",
            "Requirement already satisfied: importlib-metadata>=4.4 in /usr/local/lib/python3.7/dist-packages (from markdown>=2.6.8->tensorboard<2.9,>=2.8->tensorflow<2.9,>=2.8.0->tensorflow-text) (4.11.3)\n",
            "Requirement already satisfied: zipp>=0.5 in /usr/local/lib/python3.7/dist-packages (from importlib-metadata>=4.4->markdown>=2.6.8->tensorboard<2.9,>=2.8->tensorflow<2.9,>=2.8.0->tensorflow-text) (3.8.0)\n",
            "Requirement already satisfied: pyasn1<0.5.0,>=0.4.6 in /usr/local/lib/python3.7/dist-packages (from pyasn1-modules>=0.2.1->google-auth<3,>=1.6.3->tensorboard<2.9,>=2.8->tensorflow<2.9,>=2.8.0->tensorflow-text) (0.4.8)\n",
            "Requirement already satisfied: certifi>=2017.4.17 in /usr/local/lib/python3.7/dist-packages (from requests<3,>=2.21.0->tensorboard<2.9,>=2.8->tensorflow<2.9,>=2.8.0->tensorflow-text) (2021.10.8)\n",
            "Requirement already satisfied: urllib3!=1.25.0,!=1.25.1,<1.26,>=1.21.1 in /usr/local/lib/python3.7/dist-packages (from requests<3,>=2.21.0->tensorboard<2.9,>=2.8->tensorflow<2.9,>=2.8.0->tensorflow-text) (1.24.3)\n",
            "Requirement already satisfied: idna<3,>=2.5 in /usr/local/lib/python3.7/dist-packages (from requests<3,>=2.21.0->tensorboard<2.9,>=2.8->tensorflow<2.9,>=2.8.0->tensorflow-text) (2.10)\n",
            "Requirement already satisfied: chardet<4,>=3.0.2 in /usr/local/lib/python3.7/dist-packages (from requests<3,>=2.21.0->tensorboard<2.9,>=2.8->tensorflow<2.9,>=2.8.0->tensorflow-text) (3.0.4)\n",
            "Requirement already satisfied: oauthlib>=3.0.0 in /usr/local/lib/python3.7/dist-packages (from requests-oauthlib>=0.7.0->google-auth-oauthlib<0.5,>=0.4.1->tensorboard<2.9,>=2.8->tensorflow<2.9,>=2.8.0->tensorflow-text) (3.2.0)\n",
            "Installing collected packages: tf-estimator-nightly, tensorflow-text\n",
            "Successfully installed tensorflow-text-2.8.2 tf-estimator-nightly-2.8.0.dev2021122109\n"
          ]
        },
        {
          "output_type": "display_data",
          "data": {
            "application/vnd.colab-display-data+json": {
              "pip_warning": {
                "packages": [
                  "tensorflow_estimator"
                ]
              }
            }
          },
          "metadata": {}
        }
      ]
    },
    {
      "cell_type": "code",
      "execution_count": null,
      "metadata": {
        "id": "FrFguORhMwdE"
      },
      "outputs": [],
      "source": [
        "import pandas as pd\n",
        "import seaborn as sns\n",
        "import numpy as np\n",
        "import tensorflow_hub as hub\n",
        "import tensorflow as tf\n",
        "from gensim.models import Word2Vec\n",
        "from sklearn.model_selection import train_test_split\n",
        "import tensorflow_hub as hub\n",
        "import tensorflow_text as text\n",
        "from gensim.models import Doc2Vec\n",
        "from gensim.models.doc2vec import TaggedDocument\n",
        "import pickle\n"
      ]
    },
    {
      "cell_type": "code",
      "source": [
        "\n",
        "data = pd.read_csv('/content/drive/MyDrive/ColabNotebooks/news_articles.csv')"
      ],
      "metadata": {
        "id": "d7gF7tg3MyTx"
      },
      "execution_count": null,
      "outputs": []
    },
    {
      "cell_type": "markdown",
      "source": [
        ""
      ],
      "metadata": {
        "id": "hQz-_ns-MyXS"
      }
    },
    {
      "cell_type": "code",
      "source": [
        "data.head(2)"
      ],
      "metadata": {
        "colab": {
          "base_uri": "https://localhost:8080/",
          "height": 402
        },
        "id": "g_9HHdh1MyaH",
        "outputId": "47cd3944-faa7-4612-d69e-583e2c3b5c58"
      },
      "execution_count": null,
      "outputs": [
        {
          "output_type": "execute_result",
          "data": {
            "text/plain": [
              "                 author                      published  \\\n",
              "0     Barracuda Brigade  2016-10-26T21:41:00.000+03:00   \n",
              "1  reasoning with facts  2016-10-29T08:47:11.259+03:00   \n",
              "\n",
              "                                               title  \\\n",
              "0  muslims busted they stole millions in govt ben...   \n",
              "1  re why did attorney general loretta lynch plea...   \n",
              "\n",
              "                                                text language  \\\n",
              "0  print they should pay all the back all the mon...  english   \n",
              "1  why did attorney general loretta lynch plead t...  english   \n",
              "\n",
              "              site_url                                       main_img_url  \\\n",
              "0  100percentfedup.com  http://bb4sp.com/wp-content/uploads/2016/10/Fu...   \n",
              "1  100percentfedup.com  http://bb4sp.com/wp-content/uploads/2016/10/Fu...   \n",
              "\n",
              "   type label                      title_without_stopwords  \\\n",
              "0  bias  Real  muslims busted stole millions govt benefits   \n",
              "1  bias  Real   attorney general loretta lynch plead fifth   \n",
              "\n",
              "                              text_without_stopwords  hasImage  \n",
              "0  print pay back money plus interest entire fami...       1.0  \n",
              "1  attorney general loretta lynch plead fifth bar...       1.0  "
            ],
            "text/html": [
              "\n",
              "  <div id=\"df-1e95780c-a3fb-440c-98e8-585a21f808d3\">\n",
              "    <div class=\"colab-df-container\">\n",
              "      <div>\n",
              "<style scoped>\n",
              "    .dataframe tbody tr th:only-of-type {\n",
              "        vertical-align: middle;\n",
              "    }\n",
              "\n",
              "    .dataframe tbody tr th {\n",
              "        vertical-align: top;\n",
              "    }\n",
              "\n",
              "    .dataframe thead th {\n",
              "        text-align: right;\n",
              "    }\n",
              "</style>\n",
              "<table border=\"1\" class=\"dataframe\">\n",
              "  <thead>\n",
              "    <tr style=\"text-align: right;\">\n",
              "      <th></th>\n",
              "      <th>author</th>\n",
              "      <th>published</th>\n",
              "      <th>title</th>\n",
              "      <th>text</th>\n",
              "      <th>language</th>\n",
              "      <th>site_url</th>\n",
              "      <th>main_img_url</th>\n",
              "      <th>type</th>\n",
              "      <th>label</th>\n",
              "      <th>title_without_stopwords</th>\n",
              "      <th>text_without_stopwords</th>\n",
              "      <th>hasImage</th>\n",
              "    </tr>\n",
              "  </thead>\n",
              "  <tbody>\n",
              "    <tr>\n",
              "      <th>0</th>\n",
              "      <td>Barracuda Brigade</td>\n",
              "      <td>2016-10-26T21:41:00.000+03:00</td>\n",
              "      <td>muslims busted they stole millions in govt ben...</td>\n",
              "      <td>print they should pay all the back all the mon...</td>\n",
              "      <td>english</td>\n",
              "      <td>100percentfedup.com</td>\n",
              "      <td>http://bb4sp.com/wp-content/uploads/2016/10/Fu...</td>\n",
              "      <td>bias</td>\n",
              "      <td>Real</td>\n",
              "      <td>muslims busted stole millions govt benefits</td>\n",
              "      <td>print pay back money plus interest entire fami...</td>\n",
              "      <td>1.0</td>\n",
              "    </tr>\n",
              "    <tr>\n",
              "      <th>1</th>\n",
              "      <td>reasoning with facts</td>\n",
              "      <td>2016-10-29T08:47:11.259+03:00</td>\n",
              "      <td>re why did attorney general loretta lynch plea...</td>\n",
              "      <td>why did attorney general loretta lynch plead t...</td>\n",
              "      <td>english</td>\n",
              "      <td>100percentfedup.com</td>\n",
              "      <td>http://bb4sp.com/wp-content/uploads/2016/10/Fu...</td>\n",
              "      <td>bias</td>\n",
              "      <td>Real</td>\n",
              "      <td>attorney general loretta lynch plead fifth</td>\n",
              "      <td>attorney general loretta lynch plead fifth bar...</td>\n",
              "      <td>1.0</td>\n",
              "    </tr>\n",
              "  </tbody>\n",
              "</table>\n",
              "</div>\n",
              "      <button class=\"colab-df-convert\" onclick=\"convertToInteractive('df-1e95780c-a3fb-440c-98e8-585a21f808d3')\"\n",
              "              title=\"Convert this dataframe to an interactive table.\"\n",
              "              style=\"display:none;\">\n",
              "        \n",
              "  <svg xmlns=\"http://www.w3.org/2000/svg\" height=\"24px\"viewBox=\"0 0 24 24\"\n",
              "       width=\"24px\">\n",
              "    <path d=\"M0 0h24v24H0V0z\" fill=\"none\"/>\n",
              "    <path d=\"M18.56 5.44l.94 2.06.94-2.06 2.06-.94-2.06-.94-.94-2.06-.94 2.06-2.06.94zm-11 1L8.5 8.5l.94-2.06 2.06-.94-2.06-.94L8.5 2.5l-.94 2.06-2.06.94zm10 10l.94 2.06.94-2.06 2.06-.94-2.06-.94-.94-2.06-.94 2.06-2.06.94z\"/><path d=\"M17.41 7.96l-1.37-1.37c-.4-.4-.92-.59-1.43-.59-.52 0-1.04.2-1.43.59L10.3 9.45l-7.72 7.72c-.78.78-.78 2.05 0 2.83L4 21.41c.39.39.9.59 1.41.59.51 0 1.02-.2 1.41-.59l7.78-7.78 2.81-2.81c.8-.78.8-2.07 0-2.86zM5.41 20L4 18.59l7.72-7.72 1.47 1.35L5.41 20z\"/>\n",
              "  </svg>\n",
              "      </button>\n",
              "      \n",
              "  <style>\n",
              "    .colab-df-container {\n",
              "      display:flex;\n",
              "      flex-wrap:wrap;\n",
              "      gap: 12px;\n",
              "    }\n",
              "\n",
              "    .colab-df-convert {\n",
              "      background-color: #E8F0FE;\n",
              "      border: none;\n",
              "      border-radius: 50%;\n",
              "      cursor: pointer;\n",
              "      display: none;\n",
              "      fill: #1967D2;\n",
              "      height: 32px;\n",
              "      padding: 0 0 0 0;\n",
              "      width: 32px;\n",
              "    }\n",
              "\n",
              "    .colab-df-convert:hover {\n",
              "      background-color: #E2EBFA;\n",
              "      box-shadow: 0px 1px 2px rgba(60, 64, 67, 0.3), 0px 1px 3px 1px rgba(60, 64, 67, 0.15);\n",
              "      fill: #174EA6;\n",
              "    }\n",
              "\n",
              "    [theme=dark] .colab-df-convert {\n",
              "      background-color: #3B4455;\n",
              "      fill: #D2E3FC;\n",
              "    }\n",
              "\n",
              "    [theme=dark] .colab-df-convert:hover {\n",
              "      background-color: #434B5C;\n",
              "      box-shadow: 0px 1px 3px 1px rgba(0, 0, 0, 0.15);\n",
              "      filter: drop-shadow(0px 1px 2px rgba(0, 0, 0, 0.3));\n",
              "      fill: #FFFFFF;\n",
              "    }\n",
              "  </style>\n",
              "\n",
              "      <script>\n",
              "        const buttonEl =\n",
              "          document.querySelector('#df-1e95780c-a3fb-440c-98e8-585a21f808d3 button.colab-df-convert');\n",
              "        buttonEl.style.display =\n",
              "          google.colab.kernel.accessAllowed ? 'block' : 'none';\n",
              "\n",
              "        async function convertToInteractive(key) {\n",
              "          const element = document.querySelector('#df-1e95780c-a3fb-440c-98e8-585a21f808d3');\n",
              "          const dataTable =\n",
              "            await google.colab.kernel.invokeFunction('convertToInteractive',\n",
              "                                                     [key], {});\n",
              "          if (!dataTable) return;\n",
              "\n",
              "          const docLinkHtml = 'Like what you see? Visit the ' +\n",
              "            '<a target=\"_blank\" href=https://colab.research.google.com/notebooks/data_table.ipynb>data table notebook</a>'\n",
              "            + ' to learn more about interactive tables.';\n",
              "          element.innerHTML = '';\n",
              "          dataTable['output_type'] = 'display_data';\n",
              "          await google.colab.output.renderOutput(dataTable, element);\n",
              "          const docLink = document.createElement('div');\n",
              "          docLink.innerHTML = docLinkHtml;\n",
              "          element.appendChild(docLink);\n",
              "        }\n",
              "      </script>\n",
              "    </div>\n",
              "  </div>\n",
              "  "
            ]
          },
          "metadata": {},
          "execution_count": 81
        }
      ]
    },
    {
      "cell_type": "code",
      "source": [
        "data['label'].value_counts()"
      ],
      "metadata": {
        "colab": {
          "base_uri": "https://localhost:8080/"
        },
        "id": "VXscrMUaMydJ",
        "outputId": "679e48b0-3f08-4908-d796-16028af7aa54"
      },
      "execution_count": null,
      "outputs": [
        {
          "output_type": "execute_result",
          "data": {
            "text/plain": [
              "Fake    1294\n",
              "Real     801\n",
              "Name: label, dtype: int64"
            ]
          },
          "metadata": {},
          "execution_count": 82
        }
      ]
    },
    {
      "cell_type": "code",
      "source": [
        "data = data[['title', 'label']]"
      ],
      "metadata": {
        "id": "BdZivVwoMygP"
      },
      "execution_count": null,
      "outputs": []
    },
    {
      "cell_type": "code",
      "source": [
        "data.head()"
      ],
      "metadata": {
        "colab": {
          "base_uri": "https://localhost:8080/",
          "height": 206
        },
        "id": "SMO3ukdbMyjH",
        "outputId": "27b6996a-a38d-484e-c765-506fe69bcde5"
      },
      "execution_count": null,
      "outputs": [
        {
          "output_type": "execute_result",
          "data": {
            "text/plain": [
              "                                               title label\n",
              "0  muslims busted they stole millions in govt ben...  Real\n",
              "1  re why did attorney general loretta lynch plea...  Real\n",
              "2  breaking weiner cooperating with fbi on hillar...  Real\n",
              "3  pin drop speech by father of daughter kidnappe...  Real\n",
              "4  fantastic trumps  point plan to reform healthc...  Real"
            ],
            "text/html": [
              "\n",
              "  <div id=\"df-6d37547a-f666-44f9-b585-c48f98299876\">\n",
              "    <div class=\"colab-df-container\">\n",
              "      <div>\n",
              "<style scoped>\n",
              "    .dataframe tbody tr th:only-of-type {\n",
              "        vertical-align: middle;\n",
              "    }\n",
              "\n",
              "    .dataframe tbody tr th {\n",
              "        vertical-align: top;\n",
              "    }\n",
              "\n",
              "    .dataframe thead th {\n",
              "        text-align: right;\n",
              "    }\n",
              "</style>\n",
              "<table border=\"1\" class=\"dataframe\">\n",
              "  <thead>\n",
              "    <tr style=\"text-align: right;\">\n",
              "      <th></th>\n",
              "      <th>title</th>\n",
              "      <th>label</th>\n",
              "    </tr>\n",
              "  </thead>\n",
              "  <tbody>\n",
              "    <tr>\n",
              "      <th>0</th>\n",
              "      <td>muslims busted they stole millions in govt ben...</td>\n",
              "      <td>Real</td>\n",
              "    </tr>\n",
              "    <tr>\n",
              "      <th>1</th>\n",
              "      <td>re why did attorney general loretta lynch plea...</td>\n",
              "      <td>Real</td>\n",
              "    </tr>\n",
              "    <tr>\n",
              "      <th>2</th>\n",
              "      <td>breaking weiner cooperating with fbi on hillar...</td>\n",
              "      <td>Real</td>\n",
              "    </tr>\n",
              "    <tr>\n",
              "      <th>3</th>\n",
              "      <td>pin drop speech by father of daughter kidnappe...</td>\n",
              "      <td>Real</td>\n",
              "    </tr>\n",
              "    <tr>\n",
              "      <th>4</th>\n",
              "      <td>fantastic trumps  point plan to reform healthc...</td>\n",
              "      <td>Real</td>\n",
              "    </tr>\n",
              "  </tbody>\n",
              "</table>\n",
              "</div>\n",
              "      <button class=\"colab-df-convert\" onclick=\"convertToInteractive('df-6d37547a-f666-44f9-b585-c48f98299876')\"\n",
              "              title=\"Convert this dataframe to an interactive table.\"\n",
              "              style=\"display:none;\">\n",
              "        \n",
              "  <svg xmlns=\"http://www.w3.org/2000/svg\" height=\"24px\"viewBox=\"0 0 24 24\"\n",
              "       width=\"24px\">\n",
              "    <path d=\"M0 0h24v24H0V0z\" fill=\"none\"/>\n",
              "    <path d=\"M18.56 5.44l.94 2.06.94-2.06 2.06-.94-2.06-.94-.94-2.06-.94 2.06-2.06.94zm-11 1L8.5 8.5l.94-2.06 2.06-.94-2.06-.94L8.5 2.5l-.94 2.06-2.06.94zm10 10l.94 2.06.94-2.06 2.06-.94-2.06-.94-.94-2.06-.94 2.06-2.06.94z\"/><path d=\"M17.41 7.96l-1.37-1.37c-.4-.4-.92-.59-1.43-.59-.52 0-1.04.2-1.43.59L10.3 9.45l-7.72 7.72c-.78.78-.78 2.05 0 2.83L4 21.41c.39.39.9.59 1.41.59.51 0 1.02-.2 1.41-.59l7.78-7.78 2.81-2.81c.8-.78.8-2.07 0-2.86zM5.41 20L4 18.59l7.72-7.72 1.47 1.35L5.41 20z\"/>\n",
              "  </svg>\n",
              "      </button>\n",
              "      \n",
              "  <style>\n",
              "    .colab-df-container {\n",
              "      display:flex;\n",
              "      flex-wrap:wrap;\n",
              "      gap: 12px;\n",
              "    }\n",
              "\n",
              "    .colab-df-convert {\n",
              "      background-color: #E8F0FE;\n",
              "      border: none;\n",
              "      border-radius: 50%;\n",
              "      cursor: pointer;\n",
              "      display: none;\n",
              "      fill: #1967D2;\n",
              "      height: 32px;\n",
              "      padding: 0 0 0 0;\n",
              "      width: 32px;\n",
              "    }\n",
              "\n",
              "    .colab-df-convert:hover {\n",
              "      background-color: #E2EBFA;\n",
              "      box-shadow: 0px 1px 2px rgba(60, 64, 67, 0.3), 0px 1px 3px 1px rgba(60, 64, 67, 0.15);\n",
              "      fill: #174EA6;\n",
              "    }\n",
              "\n",
              "    [theme=dark] .colab-df-convert {\n",
              "      background-color: #3B4455;\n",
              "      fill: #D2E3FC;\n",
              "    }\n",
              "\n",
              "    [theme=dark] .colab-df-convert:hover {\n",
              "      background-color: #434B5C;\n",
              "      box-shadow: 0px 1px 3px 1px rgba(0, 0, 0, 0.15);\n",
              "      filter: drop-shadow(0px 1px 2px rgba(0, 0, 0, 0.3));\n",
              "      fill: #FFFFFF;\n",
              "    }\n",
              "  </style>\n",
              "\n",
              "      <script>\n",
              "        const buttonEl =\n",
              "          document.querySelector('#df-6d37547a-f666-44f9-b585-c48f98299876 button.colab-df-convert');\n",
              "        buttonEl.style.display =\n",
              "          google.colab.kernel.accessAllowed ? 'block' : 'none';\n",
              "\n",
              "        async function convertToInteractive(key) {\n",
              "          const element = document.querySelector('#df-6d37547a-f666-44f9-b585-c48f98299876');\n",
              "          const dataTable =\n",
              "            await google.colab.kernel.invokeFunction('convertToInteractive',\n",
              "                                                     [key], {});\n",
              "          if (!dataTable) return;\n",
              "\n",
              "          const docLinkHtml = 'Like what you see? Visit the ' +\n",
              "            '<a target=\"_blank\" href=https://colab.research.google.com/notebooks/data_table.ipynb>data table notebook</a>'\n",
              "            + ' to learn more about interactive tables.';\n",
              "          element.innerHTML = '';\n",
              "          dataTable['output_type'] = 'display_data';\n",
              "          await google.colab.output.renderOutput(dataTable, element);\n",
              "          const docLink = document.createElement('div');\n",
              "          docLink.innerHTML = docLinkHtml;\n",
              "          element.appendChild(docLink);\n",
              "        }\n",
              "      </script>\n",
              "    </div>\n",
              "  </div>\n",
              "  "
            ]
          },
          "metadata": {},
          "execution_count": 85
        }
      ]
    },
    {
      "cell_type": "code",
      "source": [
        "data['label'] = data['label'].map({'Real': 0, 'Fake':1})"
      ],
      "metadata": {
        "id": "FlAKQhxBMymC"
      },
      "execution_count": null,
      "outputs": []
    },
    {
      "cell_type": "code",
      "source": [
        "data.tail()"
      ],
      "metadata": {
        "colab": {
          "base_uri": "https://localhost:8080/",
          "height": 206
        },
        "id": "UImJ2QtkMypG",
        "outputId": "c1b989e7-2767-4734-8a3d-d05c132adf7f"
      },
      "execution_count": null,
      "outputs": [
        {
          "output_type": "execute_result",
          "data": {
            "text/plain": [
              "                                                  title  label\n",
              "2091          teens walk free after gangrape conviction    0.0\n",
              "2092         school named for munichmassacre mastermind    0.0\n",
              "2093                      russia unveils satan  missile    1.0\n",
              "2094              check out hillarythemed haunted house    1.0\n",
              "2095  cannabis aficionados develop thca crystalline ...    NaN"
            ],
            "text/html": [
              "\n",
              "  <div id=\"df-96ec0ef7-e174-48e9-b7d9-d0c6c974fefc\">\n",
              "    <div class=\"colab-df-container\">\n",
              "      <div>\n",
              "<style scoped>\n",
              "    .dataframe tbody tr th:only-of-type {\n",
              "        vertical-align: middle;\n",
              "    }\n",
              "\n",
              "    .dataframe tbody tr th {\n",
              "        vertical-align: top;\n",
              "    }\n",
              "\n",
              "    .dataframe thead th {\n",
              "        text-align: right;\n",
              "    }\n",
              "</style>\n",
              "<table border=\"1\" class=\"dataframe\">\n",
              "  <thead>\n",
              "    <tr style=\"text-align: right;\">\n",
              "      <th></th>\n",
              "      <th>title</th>\n",
              "      <th>label</th>\n",
              "    </tr>\n",
              "  </thead>\n",
              "  <tbody>\n",
              "    <tr>\n",
              "      <th>2091</th>\n",
              "      <td>teens walk free after gangrape conviction</td>\n",
              "      <td>0.0</td>\n",
              "    </tr>\n",
              "    <tr>\n",
              "      <th>2092</th>\n",
              "      <td>school named for munichmassacre mastermind</td>\n",
              "      <td>0.0</td>\n",
              "    </tr>\n",
              "    <tr>\n",
              "      <th>2093</th>\n",
              "      <td>russia unveils satan  missile</td>\n",
              "      <td>1.0</td>\n",
              "    </tr>\n",
              "    <tr>\n",
              "      <th>2094</th>\n",
              "      <td>check out hillarythemed haunted house</td>\n",
              "      <td>1.0</td>\n",
              "    </tr>\n",
              "    <tr>\n",
              "      <th>2095</th>\n",
              "      <td>cannabis aficionados develop thca crystalline ...</td>\n",
              "      <td>NaN</td>\n",
              "    </tr>\n",
              "  </tbody>\n",
              "</table>\n",
              "</div>\n",
              "      <button class=\"colab-df-convert\" onclick=\"convertToInteractive('df-96ec0ef7-e174-48e9-b7d9-d0c6c974fefc')\"\n",
              "              title=\"Convert this dataframe to an interactive table.\"\n",
              "              style=\"display:none;\">\n",
              "        \n",
              "  <svg xmlns=\"http://www.w3.org/2000/svg\" height=\"24px\"viewBox=\"0 0 24 24\"\n",
              "       width=\"24px\">\n",
              "    <path d=\"M0 0h24v24H0V0z\" fill=\"none\"/>\n",
              "    <path d=\"M18.56 5.44l.94 2.06.94-2.06 2.06-.94-2.06-.94-.94-2.06-.94 2.06-2.06.94zm-11 1L8.5 8.5l.94-2.06 2.06-.94-2.06-.94L8.5 2.5l-.94 2.06-2.06.94zm10 10l.94 2.06.94-2.06 2.06-.94-2.06-.94-.94-2.06-.94 2.06-2.06.94z\"/><path d=\"M17.41 7.96l-1.37-1.37c-.4-.4-.92-.59-1.43-.59-.52 0-1.04.2-1.43.59L10.3 9.45l-7.72 7.72c-.78.78-.78 2.05 0 2.83L4 21.41c.39.39.9.59 1.41.59.51 0 1.02-.2 1.41-.59l7.78-7.78 2.81-2.81c.8-.78.8-2.07 0-2.86zM5.41 20L4 18.59l7.72-7.72 1.47 1.35L5.41 20z\"/>\n",
              "  </svg>\n",
              "      </button>\n",
              "      \n",
              "  <style>\n",
              "    .colab-df-container {\n",
              "      display:flex;\n",
              "      flex-wrap:wrap;\n",
              "      gap: 12px;\n",
              "    }\n",
              "\n",
              "    .colab-df-convert {\n",
              "      background-color: #E8F0FE;\n",
              "      border: none;\n",
              "      border-radius: 50%;\n",
              "      cursor: pointer;\n",
              "      display: none;\n",
              "      fill: #1967D2;\n",
              "      height: 32px;\n",
              "      padding: 0 0 0 0;\n",
              "      width: 32px;\n",
              "    }\n",
              "\n",
              "    .colab-df-convert:hover {\n",
              "      background-color: #E2EBFA;\n",
              "      box-shadow: 0px 1px 2px rgba(60, 64, 67, 0.3), 0px 1px 3px 1px rgba(60, 64, 67, 0.15);\n",
              "      fill: #174EA6;\n",
              "    }\n",
              "\n",
              "    [theme=dark] .colab-df-convert {\n",
              "      background-color: #3B4455;\n",
              "      fill: #D2E3FC;\n",
              "    }\n",
              "\n",
              "    [theme=dark] .colab-df-convert:hover {\n",
              "      background-color: #434B5C;\n",
              "      box-shadow: 0px 1px 3px 1px rgba(0, 0, 0, 0.15);\n",
              "      filter: drop-shadow(0px 1px 2px rgba(0, 0, 0, 0.3));\n",
              "      fill: #FFFFFF;\n",
              "    }\n",
              "  </style>\n",
              "\n",
              "      <script>\n",
              "        const buttonEl =\n",
              "          document.querySelector('#df-96ec0ef7-e174-48e9-b7d9-d0c6c974fefc button.colab-df-convert');\n",
              "        buttonEl.style.display =\n",
              "          google.colab.kernel.accessAllowed ? 'block' : 'none';\n",
              "\n",
              "        async function convertToInteractive(key) {\n",
              "          const element = document.querySelector('#df-96ec0ef7-e174-48e9-b7d9-d0c6c974fefc');\n",
              "          const dataTable =\n",
              "            await google.colab.kernel.invokeFunction('convertToInteractive',\n",
              "                                                     [key], {});\n",
              "          if (!dataTable) return;\n",
              "\n",
              "          const docLinkHtml = 'Like what you see? Visit the ' +\n",
              "            '<a target=\"_blank\" href=https://colab.research.google.com/notebooks/data_table.ipynb>data table notebook</a>'\n",
              "            + ' to learn more about interactive tables.';\n",
              "          element.innerHTML = '';\n",
              "          dataTable['output_type'] = 'display_data';\n",
              "          await google.colab.output.renderOutput(dataTable, element);\n",
              "          const docLink = document.createElement('div');\n",
              "          docLink.innerHTML = docLinkHtml;\n",
              "          element.appendChild(docLink);\n",
              "        }\n",
              "      </script>\n",
              "    </div>\n",
              "  </div>\n",
              "  "
            ]
          },
          "metadata": {},
          "execution_count": 87
        }
      ]
    },
    {
      "cell_type": "code",
      "source": [
        "data = data.dropna()"
      ],
      "metadata": {
        "id": "6_97aa3eMysY"
      },
      "execution_count": null,
      "outputs": []
    },
    {
      "cell_type": "code",
      "source": [
        "data['label'].value_counts()"
      ],
      "metadata": {
        "colab": {
          "base_uri": "https://localhost:8080/"
        },
        "id": "QHzNsN05Myu7",
        "outputId": "3aa4dfa4-2f09-4b8f-c107-0e3879365e38"
      },
      "execution_count": null,
      "outputs": [
        {
          "output_type": "execute_result",
          "data": {
            "text/plain": [
              "1.0    1294\n",
              "0.0     801\n",
              "Name: label, dtype: int64"
            ]
          },
          "metadata": {},
          "execution_count": 89
        }
      ]
    },
    {
      "cell_type": "markdown",
      "source": [
        "We have a approximately 62:38 real:fake news ratio."
      ],
      "metadata": {
        "id": "NVY06wRJPp99"
      }
    },
    {
      "cell_type": "code",
      "source": [
        "# Character Length of Titles - Min, Mean, Max\n",
        "print('Mean Length', data['title'].apply(len).mean())\n",
        "print('Min Length', data['title'].apply(len).min())\n",
        "print('Max Length', data['title'].apply(len).max())\n",
        "\n",
        "x = data['title'].apply(len).plot.hist()"
      ],
      "metadata": {
        "colab": {
          "base_uri": "https://localhost:8080/",
          "height": 317
        },
        "id": "jZoA1a2BMyxw",
        "outputId": "bfd7f82e-4340-43fa-821c-a029fdcd6d87"
      },
      "execution_count": null,
      "outputs": [
        {
          "output_type": "stream",
          "name": "stdout",
          "text": [
            "Mean Length 61.22673031026253\n",
            "Min Length 2\n",
            "Max Length 443\n"
          ]
        },
        {
          "output_type": "display_data",
          "data": {
            "text/plain": [
              "<Figure size 432x288 with 1 Axes>"
            ],
            "image/png": "[encoded data removed]"
          },
          "metadata": {
            "needs_background": "light"
          }
        }
      ]
    },
    {
      "cell_type": "markdown",
      "source": [
        "We see that that the numbers of characters in each entry ranges from 2–443. There is a high concentration of samples with a length of 0–100. This can be further seen with the mean length in the dataset being approximately 61."
      ],
      "metadata": {
        "id": "FjXZwOiyQRF-"
      }
    },
    {
      "cell_type": "code",
      "source": [
        "##"
      ],
      "metadata": {
        "id": "a9VNlnIfTJ4Z"
      },
      "execution_count": null,
      "outputs": []
    },
    {
      "cell_type": "code",
      "source": [
        "import nltk\n",
        "from nltk.tokenize import sent_tokenize\n",
        "from nltk.stem import WordNetLemmatizer \n",
        "from nltk.corpus import stopwords\n",
        "\n",
        "nltk.download('punkt')\n",
        "nltk.download('wordnet')\n",
        "nltk.download('stopwords')\n",
        "\n",
        "data['title'] = data.apply(lambda row: nltk.word_tokenize(row['title']), axis=1)\n",
        "lemmatizer = WordNetLemmatizer()\n",
        "\n",
        "#Loop through title dataframe\n",
        "def lemma(data):\n",
        "  return [lemmatizer.lemmatize(w) for w in data]\n",
        "\n",
        "data['title'] = data['title'].apply(lemma)\n",
        "\n",
        "stop = stopwords.words('english')\n",
        "\n",
        "data['title'] = data['title'].apply(lambda x: [i for i in x if i not in stop])\n",
        "\n",
        "data.head()"
      ],
      "metadata": {
        "id": "2ThoLXv-My0X",
        "outputId": "843bc999-4cf0-4f8a-866b-8b0cdbbe772d",
        "colab": {
          "base_uri": "https://localhost:8080/",
          "height": 310
        }
      },
      "execution_count": null,
      "outputs": [
        {
          "output_type": "stream",
          "name": "stdout",
          "text": [
            "[nltk_data] Downloading package punkt to /root/nltk_data...\n",
            "[nltk_data]   Package punkt is already up-to-date!\n",
            "[nltk_data] Downloading package wordnet to /root/nltk_data...\n",
            "[nltk_data]   Package wordnet is already up-to-date!\n",
            "[nltk_data] Downloading package stopwords to /root/nltk_data...\n",
            "[nltk_data]   Package stopwords is already up-to-date!\n"
          ]
        },
        {
          "output_type": "execute_result",
          "data": {
            "text/plain": [
              "                                               title  label\n",
              "0    [muslim, busted, stole, million, govt, benefit]    0.0\n",
              "1  [attorney, general, loretta, lynch, plead, fifth]    0.0\n",
              "2  [breaking, weiner, cooperating, fbi, hillary, ...    0.0\n",
              "3  [pin, drop, speech, father, daughter, kidnappe...    0.0\n",
              "4  [fantastic, trump, point, plan, reform, health...    0.0"
            ],
            "text/html": [
              "\n",
              "  <div id=\"df-b7b0a4ff-c0ae-40fc-acf4-a967b03437bd\">\n",
              "    <div class=\"colab-df-container\">\n",
              "      <div>\n",
              "<style scoped>\n",
              "    .dataframe tbody tr th:only-of-type {\n",
              "        vertical-align: middle;\n",
              "    }\n",
              "\n",
              "    .dataframe tbody tr th {\n",
              "        vertical-align: top;\n",
              "    }\n",
              "\n",
              "    .dataframe thead th {\n",
              "        text-align: right;\n",
              "    }\n",
              "</style>\n",
              "<table border=\"1\" class=\"dataframe\">\n",
              "  <thead>\n",
              "    <tr style=\"text-align: right;\">\n",
              "      <th></th>\n",
              "      <th>title</th>\n",
              "      <th>label</th>\n",
              "    </tr>\n",
              "  </thead>\n",
              "  <tbody>\n",
              "    <tr>\n",
              "      <th>0</th>\n",
              "      <td>[muslim, busted, stole, million, govt, benefit]</td>\n",
              "      <td>0.0</td>\n",
              "    </tr>\n",
              "    <tr>\n",
              "      <th>1</th>\n",
              "      <td>[attorney, general, loretta, lynch, plead, fifth]</td>\n",
              "      <td>0.0</td>\n",
              "    </tr>\n",
              "    <tr>\n",
              "      <th>2</th>\n",
              "      <td>[breaking, weiner, cooperating, fbi, hillary, ...</td>\n",
              "      <td>0.0</td>\n",
              "    </tr>\n",
              "    <tr>\n",
              "      <th>3</th>\n",
              "      <td>[pin, drop, speech, father, daughter, kidnappe...</td>\n",
              "      <td>0.0</td>\n",
              "    </tr>\n",
              "    <tr>\n",
              "      <th>4</th>\n",
              "      <td>[fantastic, trump, point, plan, reform, health...</td>\n",
              "      <td>0.0</td>\n",
              "    </tr>\n",
              "  </tbody>\n",
              "</table>\n",
              "</div>\n",
              "      <button class=\"colab-df-convert\" onclick=\"convertToInteractive('df-b7b0a4ff-c0ae-40fc-acf4-a967b03437bd')\"\n",
              "              title=\"Convert this dataframe to an interactive table.\"\n",
              "              style=\"display:none;\">\n",
              "        \n",
              "  <svg xmlns=\"http://www.w3.org/2000/svg\" height=\"24px\"viewBox=\"0 0 24 24\"\n",
              "       width=\"24px\">\n",
              "    <path d=\"M0 0h24v24H0V0z\" fill=\"none\"/>\n",
              "    <path d=\"M18.56 5.44l.94 2.06.94-2.06 2.06-.94-2.06-.94-.94-2.06-.94 2.06-2.06.94zm-11 1L8.5 8.5l.94-2.06 2.06-.94-2.06-.94L8.5 2.5l-.94 2.06-2.06.94zm10 10l.94 2.06.94-2.06 2.06-.94-2.06-.94-.94-2.06-.94 2.06-2.06.94z\"/><path d=\"M17.41 7.96l-1.37-1.37c-.4-.4-.92-.59-1.43-.59-.52 0-1.04.2-1.43.59L10.3 9.45l-7.72 7.72c-.78.78-.78 2.05 0 2.83L4 21.41c.39.39.9.59 1.41.59.51 0 1.02-.2 1.41-.59l7.78-7.78 2.81-2.81c.8-.78.8-2.07 0-2.86zM5.41 20L4 18.59l7.72-7.72 1.47 1.35L5.41 20z\"/>\n",
              "  </svg>\n",
              "      </button>\n",
              "      \n",
              "  <style>\n",
              "    .colab-df-container {\n",
              "      display:flex;\n",
              "      flex-wrap:wrap;\n",
              "      gap: 12px;\n",
              "    }\n",
              "\n",
              "    .colab-df-convert {\n",
              "      background-color: #E8F0FE;\n",
              "      border: none;\n",
              "      border-radius: 50%;\n",
              "      cursor: pointer;\n",
              "      display: none;\n",
              "      fill: #1967D2;\n",
              "      height: 32px;\n",
              "      padding: 0 0 0 0;\n",
              "      width: 32px;\n",
              "    }\n",
              "\n",
              "    .colab-df-convert:hover {\n",
              "      background-color: #E2EBFA;\n",
              "      box-shadow: 0px 1px 2px rgba(60, 64, 67, 0.3), 0px 1px 3px 1px rgba(60, 64, 67, 0.15);\n",
              "      fill: #174EA6;\n",
              "    }\n",
              "\n",
              "    [theme=dark] .colab-df-convert {\n",
              "      background-color: #3B4455;\n",
              "      fill: #D2E3FC;\n",
              "    }\n",
              "\n",
              "    [theme=dark] .colab-df-convert:hover {\n",
              "      background-color: #434B5C;\n",
              "      box-shadow: 0px 1px 3px 1px rgba(0, 0, 0, 0.15);\n",
              "      filter: drop-shadow(0px 1px 2px rgba(0, 0, 0, 0.3));\n",
              "      fill: #FFFFFF;\n",
              "    }\n",
              "  </style>\n",
              "\n",
              "      <script>\n",
              "        const buttonEl =\n",
              "          document.querySelector('#df-b7b0a4ff-c0ae-40fc-acf4-a967b03437bd button.colab-df-convert');\n",
              "        buttonEl.style.display =\n",
              "          google.colab.kernel.accessAllowed ? 'block' : 'none';\n",
              "\n",
              "        async function convertToInteractive(key) {\n",
              "          const element = document.querySelector('#df-b7b0a4ff-c0ae-40fc-acf4-a967b03437bd');\n",
              "          const dataTable =\n",
              "            await google.colab.kernel.invokeFunction('convertToInteractive',\n",
              "                                                     [key], {});\n",
              "          if (!dataTable) return;\n",
              "\n",
              "          const docLinkHtml = 'Like what you see? Visit the ' +\n",
              "            '<a target=\"_blank\" href=https://colab.research.google.com/notebooks/data_table.ipynb>data table notebook</a>'\n",
              "            + ' to learn more about interactive tables.';\n",
              "          element.innerHTML = '';\n",
              "          dataTable['output_type'] = 'display_data';\n",
              "          await google.colab.output.renderOutput(dataTable, element);\n",
              "          const docLink = document.createElement('div');\n",
              "          docLink.innerHTML = docLinkHtml;\n",
              "          element.appendChild(docLink);\n",
              "        }\n",
              "      </script>\n",
              "    </div>\n",
              "  </div>\n",
              "  "
            ]
          },
          "metadata": {},
          "execution_count": 91
        }
      ]
    },
    {
      "cell_type": "code",
      "source": [
        "titles = data[\"title\"].values\n",
        "labels = data[\"label\"].values"
      ],
      "metadata": {
        "id": "DOq8YX8lN3aV"
      },
      "execution_count": null,
      "outputs": []
    },
    {
      "cell_type": "code",
      "source": [
        "\n",
        "#Split data into training and testing \n",
        "title_train, title_test, y_train, y_test = train_test_split(titles, labels, \n",
        "                                                            test_size=0.3, \n",
        "                                                            random_state=1000)"
      ],
      "metadata": {
        "id": "9IxaE1z9My3F"
      },
      "execution_count": null,
      "outputs": []
    },
    {
      "cell_type": "code",
      "source": [
        "embed = hub.load(\"https://tfhub.dev/google/Wiki-words-250/2\")\n",
        "\n",
        "indiv = []\n",
        "for i in title_train:\n",
        "  temp = np.array(embed(i))\n",
        " \n",
        "  indiv.append(temp)\n",
        "\n",
        "indiv = tf.keras.preprocessing.sequence.pad_sequences(indiv,dtype='float')\n",
        "indiv.shape"
      ],
      "metadata": {
        "id": "9vP2_l30N9QB",
        "outputId": "e117f8ca-4ef8-4f15-f959-a716ad9cc947",
        "colab": {
          "base_uri": "https://localhost:8080/"
        }
      },
      "execution_count": null,
      "outputs": [
        {
          "output_type": "execute_result",
          "data": {
            "text/plain": [
              "(1466, 46, 250)"
            ]
          },
          "metadata": {},
          "execution_count": 94
        }
      ]
    },
    {
      "cell_type": "markdown",
      "source": [
        "There are 1466 samples in the training data \n",
        ",The maximum length is 46 words \n",
        ",Each word has 250 features."
      ],
      "metadata": {
        "id": "ZJW7kb0LOjRe"
      }
    },
    {
      "cell_type": "code",
      "source": [
        "test = []\n",
        "\n",
        "for i in title_test:\n",
        "  temp = np.array(embed(i))\n",
        "  test.append(temp)\n",
        "\n",
        "#Accounts for the different length of words in test data\n",
        "test = tf.keras.preprocessing.sequence.pad_sequences(test, dtype='float')"
      ],
      "metadata": {
        "id": "Jj2dUX91Ooc4"
      },
      "execution_count": null,
      "outputs": []
    },
    {
      "cell_type": "markdown",
      "source": [
        "- 1 LSTM layer with 50 units\n",
        "- 2 Dense layers (one with 20 neurons, the second with 5) with a ReLU activation function\n",
        "- 1 Dense output layer with a sigmoid activation function\n"
      ],
      "metadata": {
        "id": "Vr6uDZdaO1eq"
      }
    },
    {
      "cell_type": "code",
      "source": [
        "#Sequential model has a 50 cell LSTM layer before Dense layers\n",
        "model = tf.keras.models.Sequential()\n",
        "\n",
        "\n",
        "model.add(tf.keras.layers.LSTM(50))\n",
        "model.add(tf.keras.layers.Dense(20,activation='relu'))\n",
        "model.add(tf.keras.layers.Dense(5,activation='relu'))\n",
        "\n",
        "model.add(tf.keras.layers.Dense(1,activation='sigmoid'))\n",
        "\n",
        "#Compile model with binary_crossentropy loss, Adam optimizer, and accuracy metrics\n",
        "model.compile(optimizer=tf.keras.optimizers.Adam(learning_rate = 1e-4),\\\n",
        "              loss=\"binary_crossentropy\", metrics=['accuracy'])\n",
        "\n",
        "#Train model on 10 epochs\n",
        "model.fit(indiv, y_train,validation_data=[test,y_test], epochs=20)"
      ],
      "metadata": {
        "id": "FOkpG7zwOoaI",
        "outputId": "a1e02a48-a75a-4dd2-8d08-e43496a104d2",
        "colab": {
          "base_uri": "https://localhost:8080/"
        }
      },
      "execution_count": null,
      "outputs": [
        {
          "output_type": "stream",
          "name": "stdout",
          "text": [
            "Epoch 1/20\n",
            "46/46 [==============================] - 7s 63ms/step - loss: 0.6906 - accuracy: 0.5859 - val_loss: 0.6864 - val_accuracy: 0.6073\n",
            "Epoch 2/20\n",
            "46/46 [==============================] - 2s 39ms/step - loss: 0.6812 - accuracy: 0.6207 - val_loss: 0.6775 - val_accuracy: 0.6121\n",
            "Epoch 3/20\n",
            "46/46 [==============================] - 2s 38ms/step - loss: 0.6708 - accuracy: 0.6201 - val_loss: 0.6678 - val_accuracy: 0.6121\n",
            "Epoch 4/20\n",
            "46/46 [==============================] - 2s 39ms/step - loss: 0.6602 - accuracy: 0.6201 - val_loss: 0.6608 - val_accuracy: 0.6121\n",
            "Epoch 5/20\n",
            "46/46 [==============================] - 2s 39ms/step - loss: 0.6532 - accuracy: 0.6201 - val_loss: 0.6573 - val_accuracy: 0.6121\n",
            "Epoch 6/20\n",
            "46/46 [==============================] - 2s 40ms/step - loss: 0.6475 - accuracy: 0.6201 - val_loss: 0.6551 - val_accuracy: 0.6121\n",
            "Epoch 7/20\n",
            "46/46 [==============================] - 2s 40ms/step - loss: 0.6422 - accuracy: 0.6201 - val_loss: 0.6515 - val_accuracy: 0.6121\n",
            "Epoch 8/20\n",
            "46/46 [==============================] - 2s 38ms/step - loss: 0.6357 - accuracy: 0.6201 - val_loss: 0.6481 - val_accuracy: 0.6153\n",
            "Epoch 9/20\n",
            "46/46 [==============================] - 2s 39ms/step - loss: 0.6293 - accuracy: 0.6228 - val_loss: 0.6448 - val_accuracy: 0.6073\n",
            "Epoch 10/20\n",
            "46/46 [==============================] - 2s 40ms/step - loss: 0.6234 - accuracy: 0.6241 - val_loss: 0.6418 - val_accuracy: 0.6137\n",
            "Epoch 11/20\n",
            "46/46 [==============================] - 2s 38ms/step - loss: 0.6170 - accuracy: 0.6282 - val_loss: 0.6420 - val_accuracy: 0.6057\n",
            "Epoch 12/20\n",
            "46/46 [==============================] - 2s 38ms/step - loss: 0.6116 - accuracy: 0.6364 - val_loss: 0.6402 - val_accuracy: 0.6041\n",
            "Epoch 13/20\n",
            "46/46 [==============================] - 2s 39ms/step - loss: 0.6067 - accuracy: 0.6412 - val_loss: 0.6384 - val_accuracy: 0.6010\n",
            "Epoch 14/20\n",
            "46/46 [==============================] - 2s 39ms/step - loss: 0.6041 - accuracy: 0.6473 - val_loss: 0.6368 - val_accuracy: 0.6041\n",
            "Epoch 15/20\n",
            "46/46 [==============================] - 2s 39ms/step - loss: 0.5988 - accuracy: 0.6487 - val_loss: 0.6382 - val_accuracy: 0.5962\n",
            "Epoch 16/20\n",
            "46/46 [==============================] - 2s 39ms/step - loss: 0.5986 - accuracy: 0.6439 - val_loss: 0.6319 - val_accuracy: 0.5978\n",
            "Epoch 17/20\n",
            "46/46 [==============================] - 2s 37ms/step - loss: 0.5926 - accuracy: 0.6569 - val_loss: 0.6302 - val_accuracy: 0.5930\n",
            "Epoch 18/20\n",
            "46/46 [==============================] - 2s 38ms/step - loss: 0.5909 - accuracy: 0.6501 - val_loss: 0.6333 - val_accuracy: 0.6121\n",
            "Epoch 19/20\n",
            "46/46 [==============================] - 2s 39ms/step - loss: 0.5916 - accuracy: 0.6576 - val_loss: 0.6333 - val_accuracy: 0.6137\n",
            "Epoch 20/20\n",
            "46/46 [==============================] - 2s 39ms/step - loss: 0.5860 - accuracy: 0.6508 - val_loss: 0.6343 - val_accuracy: 0.6041\n"
          ]
        },
        {
          "output_type": "execute_result",
          "data": {
            "text/plain": [
              "<keras.callbacks.History at 0x7fd30742e190>"
            ]
          },
          "metadata": {},
          "execution_count": 96
        }
      ]
    },
    {
      "cell_type": "markdown",
      "source": [
        "# Test Processses\n"
      ],
      "metadata": {
        "id": "XB3a5fT0UI-3"
      }
    },
    {
      "cell_type": "code",
      "source": [
        "#Create a word2vec model\n",
        "vec = Word2Vec(min_count=1)\n",
        "\n",
        "#Build its vocabulary by looping through the title dataset\n",
        "vec.build_vocab([x for x in data['title'].values])\n",
        "\n",
        "#Print the vocabulary size\n",
        "print(len(vec.wv.vocab))\n",
        "\n",
        "#Train our word2vec model on all titles for 5 epochs\n",
        "vec.train([x for x in data['title'].values],total_examples=vec.corpus_count,epochs=5)"
      ],
      "metadata": {
        "id": "Z-XBTwO7UIYT",
        "outputId": "b344f7d1-d25b-4581-95d7-0fcb2b31fe1e",
        "colab": {
          "base_uri": "https://localhost:8080/"
        }
      },
      "execution_count": null,
      "outputs": [
        {
          "output_type": "stream",
          "name": "stderr",
          "text": [
            "WARNING:gensim.models.base_any2vec:under 10 jobs per worker: consider setting a smaller `batch_words' for smoother alpha decay\n"
          ]
        },
        {
          "output_type": "stream",
          "name": "stdout",
          "text": [
            "5308\n"
          ]
        },
        {
          "output_type": "execute_result",
          "data": {
            "text/plain": [
              "(71133, 75985)"
            ]
          },
          "metadata": {},
          "execution_count": 45
        }
      ]
    },
    {
      "cell_type": "code",
      "source": [
        "#Add a tag which denotes a new document everytime a new dataset is seen\n",
        "#Example: [[word1,word2,word3,word4],document0]\n",
        "tags = [TaggedDocument(doc, [i]) for i, doc in enumerate(title_train)]\n",
        "\n",
        "#Define the Doc2Vec model\n",
        "doc = Doc2Vec(tags,vector_size=100,min_count=1,epochs=5)\n",
        "#Build the vocabulary based on the tag structures defined above\n",
        "#doc.build_vocab(tags)\n",
        "#Train the doc2vec model\n",
        "doc.train(tags, total_examples=doc.corpus_count,epochs=doc.epochs)"
      ],
      "metadata": {
        "id": "HOE1-v_4UIVc",
        "outputId": "6c57b0e5-9c74-4e70-955f-5783a1a0fa7d",
        "colab": {
          "base_uri": "https://localhost:8080/"
        }
      },
      "execution_count": null,
      "outputs": [
        {
          "output_type": "stream",
          "name": "stderr",
          "text": [
            "WARNING:gensim.models.base_any2vec:under 10 jobs per worker: consider setting a smaller `batch_words' for smoother alpha decay\n",
            "WARNING:gensim.models.base_any2vec:Effective 'alpha' higher than previous training cycles\n",
            "WARNING:gensim.models.base_any2vec:under 10 jobs per worker: consider setting a smaller `batch_words' for smoother alpha decay\n"
          ]
        }
      ]
    },
    {
      "cell_type": "code",
      "source": [
        "print(len(doc.wv.vocab))"
      ],
      "metadata": {
        "id": "rbkRWjjDUISt",
        "outputId": "93c1943b-7fd5-4cb2-8b0b-c71f08c09c61",
        "colab": {
          "base_uri": "https://localhost:8080/"
        }
      },
      "execution_count": null,
      "outputs": [
        {
          "output_type": "stream",
          "name": "stdout",
          "text": [
            "4290\n"
          ]
        }
      ]
    },
    {
      "cell_type": "code",
      "source": [
        "train_vectors = [doc.infer_vector(i) for i in title_train]"
      ],
      "metadata": {
        "id": "yCsTNi_aUiwr"
      },
      "execution_count": null,
      "outputs": []
    },
    {
      "cell_type": "code",
      "source": [
        "test_vectors = [doc.infer_vector(i) for i in title_test]"
      ],
      "metadata": {
        "id": "zrHKAoS-UIQJ"
      },
      "execution_count": null,
      "outputs": []
    },
    {
      "cell_type": "code",
      "source": [
        "train_vectors = np.array(train_vectors)\n",
        "test_vectors = np.array(test_vectors)"
      ],
      "metadata": {
        "id": "go9K5z33UINc"
      },
      "execution_count": null,
      "outputs": []
    },
    {
      "cell_type": "code",
      "source": [
        "train_vectors.shape"
      ],
      "metadata": {
        "id": "wT4wRFd7UIK-",
        "outputId": "f52dbc32-9e9d-41cb-d4eb-cfc63da56266",
        "colab": {
          "base_uri": "https://localhost:8080/"
        }
      },
      "execution_count": null,
      "outputs": [
        {
          "output_type": "execute_result",
          "data": {
            "text/plain": [
              "(1466, 100)"
            ]
          },
          "metadata": {},
          "execution_count": 51
        }
      ]
    },
    {
      "cell_type": "code",
      "source": [
        "#Sequential model\n",
        "model = tf.keras.Sequential()\n",
        "\n",
        "#Dense layer - 128 units -input shape is for the 100 vector length, relu activation\n",
        "model.add(tf.keras.layers.Dense(128,input_shape=[100],activation='relu'))\n",
        "#'Turn off' half the neurons (reduce overfitting - model will not memorize data and will understand patterns)\n",
        "model.add(tf.keras.layers.Dropout(0.5))\n",
        "#Dense layer - 64 units, relu activation\n",
        "model.add(tf.keras.layers.Dense(64,activation='relu'))\n",
        "#Dense layer - 32 units, relu activation\n",
        "model.add(tf.keras.layers.Dense(32,activation='relu'))\n",
        "#Dense layer - 16 units, relu activation\n",
        "model.add(tf.keras.layers.Dense(16,activation='relu'))\n",
        "#Dense layer - 1 units, sigmoid activation\n",
        "#Binary problem - probability of 1 class - derived with sigmoid\n",
        "model.add(tf.keras.layers.Dense(1,activation='sigmoid'))\n",
        "\n",
        "#Train on Adam optimizer with 1e-4 learning rate, loss of binary crossentropy, accuracy tracked\n",
        "model.compile(optimizer=tf.keras.optimizers.Adam(learning_rate = 1e-4),loss=\"binary_crossentropy\", metrics=['accuracy'])\n",
        "\n",
        "#Train on training set, test on testing set, for 5 epochs\n",
        "model.fit(train_vectors,y_train,validation_data=[test_vectors,y_test], epochs= 15)\n",
        "\n",
        "#Show model architecture\n",
        "model.summary()"
      ],
      "metadata": {
        "id": "6memouHQUIH0",
        "outputId": "6cd4e99d-dbd6-4ac4-8b0a-ed3a3ef3423d",
        "colab": {
          "base_uri": "https://localhost:8080/"
        }
      },
      "execution_count": null,
      "outputs": [
        {
          "output_type": "stream",
          "name": "stdout",
          "text": [
            "Epoch 1/15\n",
            "46/46 [==============================] - 1s 8ms/step - loss: 0.6913 - accuracy: 0.6139 - val_loss: 0.6895 - val_accuracy: 0.6121\n",
            "Epoch 2/15\n",
            "46/46 [==============================] - 0s 5ms/step - loss: 0.6867 - accuracy: 0.6201 - val_loss: 0.6843 - val_accuracy: 0.6121\n",
            "Epoch 3/15\n",
            "46/46 [==============================] - 0s 5ms/step - loss: 0.6808 - accuracy: 0.6201 - val_loss: 0.6789 - val_accuracy: 0.6121\n",
            "Epoch 4/15\n",
            "46/46 [==============================] - 0s 5ms/step - loss: 0.6753 - accuracy: 0.6201 - val_loss: 0.6737 - val_accuracy: 0.6121\n",
            "Epoch 5/15\n",
            "46/46 [==============================] - 0s 5ms/step - loss: 0.6691 - accuracy: 0.6201 - val_loss: 0.6702 - val_accuracy: 0.6121\n",
            "Epoch 6/15\n",
            "46/46 [==============================] - 0s 5ms/step - loss: 0.6668 - accuracy: 0.6201 - val_loss: 0.6685 - val_accuracy: 0.6121\n",
            "Epoch 7/15\n",
            "46/46 [==============================] - 0s 5ms/step - loss: 0.6655 - accuracy: 0.6201 - val_loss: 0.6680 - val_accuracy: 0.6121\n",
            "Epoch 8/15\n",
            "46/46 [==============================] - 0s 5ms/step - loss: 0.6641 - accuracy: 0.6201 - val_loss: 0.6679 - val_accuracy: 0.6121\n",
            "Epoch 9/15\n",
            "46/46 [==============================] - 0s 5ms/step - loss: 0.6652 - accuracy: 0.6201 - val_loss: 0.6679 - val_accuracy: 0.6121\n",
            "Epoch 10/15\n",
            "46/46 [==============================] - 0s 5ms/step - loss: 0.6639 - accuracy: 0.6201 - val_loss: 0.6679 - val_accuracy: 0.6121\n",
            "Epoch 11/15\n",
            "46/46 [==============================] - 0s 4ms/step - loss: 0.6644 - accuracy: 0.6201 - val_loss: 0.6680 - val_accuracy: 0.6121\n",
            "Epoch 12/15\n",
            "46/46 [==============================] - 0s 5ms/step - loss: 0.6645 - accuracy: 0.6201 - val_loss: 0.6679 - val_accuracy: 0.6121\n",
            "Epoch 13/15\n",
            "46/46 [==============================] - 0s 4ms/step - loss: 0.6636 - accuracy: 0.6201 - val_loss: 0.6680 - val_accuracy: 0.6121\n",
            "Epoch 14/15\n",
            "46/46 [==============================] - 0s 5ms/step - loss: 0.6629 - accuracy: 0.6201 - val_loss: 0.6679 - val_accuracy: 0.6121\n",
            "Epoch 15/15\n",
            "46/46 [==============================] - 0s 5ms/step - loss: 0.6642 - accuracy: 0.6201 - val_loss: 0.6678 - val_accuracy: 0.6121\n",
            "Model: \"sequential_1\"\n",
            "_________________________________________________________________\n",
            " Layer (type)                Output Shape              Param #   \n",
            "=================================================================\n",
            " dense_3 (Dense)             (None, 128)               12928     \n",
            "                                                                 \n",
            " dropout (Dropout)           (None, 128)               0         \n",
            "                                                                 \n",
            " dense_4 (Dense)             (None, 64)                8256      \n",
            "                                                                 \n",
            " dense_5 (Dense)             (None, 32)                2080      \n",
            "                                                                 \n",
            " dense_6 (Dense)             (None, 16)                528       \n",
            "                                                                 \n",
            " dense_7 (Dense)             (None, 1)                 17        \n",
            "                                                                 \n",
            "=================================================================\n",
            "Total params: 23,809\n",
            "Trainable params: 23,809\n",
            "Non-trainable params: 0\n",
            "_________________________________________________________________\n"
          ]
        }
      ]
    },
    {
      "cell_type": "code",
      "source": [
        ""
      ],
      "metadata": {
        "id": "kMquWB9XUIEx"
      },
      "execution_count": null,
      "outputs": []
    },
    {
      "cell_type": "markdown",
      "source": [
        "# BERT"
      ],
      "metadata": {
        "id": "p3M2OMrqPxJL"
      }
    },
    {
      "cell_type": "code",
      "source": [
        "from sklearn.model_selection import train_test_split\n",
        "\n",
        "#Split data into training and testing dataset\n",
        "title_train, title_test, y_train, y_test = train_test_split(titles, labels, test_size=0.2,\\\n",
        "                                                            random_state=1000)"
      ],
      "metadata": {
        "id": "obR0AXbRQbBk"
      },
      "execution_count": null,
      "outputs": []
    },
    {
      "cell_type": "code",
      "source": [
        "#Use the bert preprocesser and bert encoder from tensorflow_hub\n",
        "bert_preprocess = hub.KerasLayer(\"https://tfhub.dev/tensorflow/bert_en_uncased_preprocess/3\")\n",
        "bert_encoder = hub.KerasLayer('https://tfhub.dev/tensorflow/bert_en_uncased_L-12_H-768_A-12/4')"
      ],
      "metadata": {
        "id": "Tac3DWCDPwH2"
      },
      "execution_count": null,
      "outputs": []
    },
    {
      "cell_type": "markdown",
      "source": [
        "- 1 Input layer: This will represent the title that will be passed into the model.\n",
        "- The bert_preprocess layer: Here we pass in our input to preprocess the text.\n",
        "The bert_encoder layer: Here we pass the preprocessed tokens into the BERT encoder.\n",
        "- 1 Dropout layer with a rate of 0.2. The pooled_output of the BERT encoder is passed into it \n",
        "- 2 Dense layers with 10 and 1 neurons respectively. The first one will use a ReLU activation function, and the second will use sigmoid."
      ],
      "metadata": {
        "id": "fzZQ0WSRQGq1"
      }
    },
    {
      "cell_type": "code",
      "source": [
        "import tensorflow as tf\n",
        "\n",
        "# Input Layers\n",
        "input_layer = tf.keras.layers.Input(shape=(), dtype=tf.string, name='news')\n",
        "\n",
        "# BERT layers\n",
        "processed = bert_preprocess(input_layer)\n",
        "output = bert_encoder(processed)\n",
        "\n",
        "# Fully Connected Layers\n",
        "layer = tf.keras.layers.Dropout(0.2, name='dropout')(output['pooled_output'])\n",
        "layer = tf.keras.layers.Dense(10,activation='relu', name='hidden')(layer)\n",
        "layer = tf.keras.layers.Dense(1,activation='sigmoid', name='output')(layer)\n",
        "\n",
        "\n",
        "model = tf.keras.Model(inputs=[input_layer],outputs=[layer])"
      ],
      "metadata": {
        "id": "d349YdtRPwFD"
      },
      "execution_count": null,
      "outputs": []
    },
    {
      "cell_type": "code",
      "source": [
        "#Compile model on adam optimizer, binary_crossentropy loss, and accuracy metrics\n",
        "model.compile(optimizer='adam',loss='binary_crossentropy',metrics=['accuracy'])\n",
        "#Train model on 5 epochs\n",
        "model.fit(title_train, y_train, epochs= 5)\n",
        "\n",
        "#Evaluate model on test data\n",
        "model.evaluate(title_test,y_test)"
      ],
      "metadata": {
        "id": "NJsmxHpoPwCo",
        "outputId": "590713aa-7f91-4f3d-a4c3-1465b4955f14",
        "colab": {
          "base_uri": "https://localhost:8080/"
        }
      },
      "execution_count": null,
      "outputs": [
        {
          "output_type": "stream",
          "name": "stdout",
          "text": [
            "Epoch 1/5\n",
            "53/53 [==============================] - 765s 14s/step - loss: 0.6743 - accuracy: 0.6158\n",
            "Epoch 2/5\n",
            "53/53 [==============================] - 750s 14s/step - loss: 0.6640 - accuracy: 0.6158\n",
            "Epoch 3/5\n",
            "53/53 [==============================] - 745s 14s/step - loss: 0.6575 - accuracy: 0.6187\n",
            "Epoch 4/5\n",
            "53/53 [==============================] - 746s 14s/step - loss: 0.6555 - accuracy: 0.6187\n",
            "Epoch 5/5\n",
            "53/53 [==============================] - 747s 14s/step - loss: 0.6488 - accuracy: 0.6229\n",
            "14/14 [==============================] - 189s 13s/step - loss: 0.6581 - accuracy: 0.6110\n"
          ]
        },
        {
          "output_type": "execute_result",
          "data": {
            "text/plain": [
              "[0.6580721139907837, 0.6109785437583923]"
            ]
          },
          "metadata": {},
          "execution_count": 77
        }
      ]
    },
    {
      "cell_type": "code",
      "source": [
        "model_file_list = [r\"/content/drive/MyDrive/Colab Notebooks/models/bert_model.pkl\"]\n",
        "\n",
        "model_list = [model]\n",
        "\n",
        "for model1, filename in zip(model_list, model_file_list):\n",
        "    pickle.dump(model1, open(filename, 'wb'))"
      ],
      "metadata": {
        "id": "ilfa-B2CPu6a",
        "colab": {
          "base_uri": "https://localhost:8080/"
        },
        "outputId": "7dcf5045-fafe-407a-eea3-006668e3f596"
      },
      "execution_count": null,
      "outputs": [
        {
          "output_type": "stream",
          "name": "stderr",
          "text": [
            "WARNING:absl:Found untraced functions such as lstm_cell_1_layer_call_fn, lstm_cell_1_layer_call_and_return_conditional_losses while saving (showing 2 of 2). These functions will not be directly callable after loading.\n"
          ]
        },
        {
          "output_type": "stream",
          "name": "stdout",
          "text": [
            "INFO:tensorflow:Assets written to: ram://9ccae455-053f-4747-bb2c-876196ce918f/assets\n"
          ]
        },
        {
          "output_type": "stream",
          "name": "stderr",
          "text": [
            "INFO:tensorflow:Assets written to: ram://9ccae455-053f-4747-bb2c-876196ce918f/assets\n",
            "WARNING:absl:<keras.layers.recurrent.LSTMCell object at 0x7fd3074aa290> has the same name 'LSTMCell' as a built-in Keras object. Consider renaming <class 'keras.layers.recurrent.LSTMCell'> to avoid naming conflicts when loading with `tf.keras.models.load_model`. If renaming is not possible, pass the object in the `custom_objects` parameter of the load function.\n"
          ]
        }
      ]
    }
  ]
}